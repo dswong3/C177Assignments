{
 "cells": [
  {
   "cell_type": "markdown",
   "metadata": {},
   "source": [
    "## TO DO"
   ]
  },
  {
   "cell_type": "markdown",
   "metadata": {},
   "source": [
    "1) How many fossils are included in the dataset?\n",
    "\n",
    "#cat canid_occ.csv | grep -c occ\n",
    "\n",
    "2947"
   ]
  },
  {
   "cell_type": "markdown",
   "metadata": {},
   "source": [
    "2) How many fossils have been identified to genus-level only? How many to species-level?\n",
    "\n",
    "#cat canid_occ.csv | grep -c genus\n",
    "\n",
    "614\n",
    "\n",
    "#cat canid_occ.csv | grep -c species\n",
    "\n",
    "2107"
   ]
  },
  {
   "cell_type": "markdown",
   "metadata": {},
   "source": [
    "3) How many unique accepted names are part of this dataset?\n",
    "\n",
    "#tail -n +2 canid_occ.csv | cut -d \",\" -f 6 | sort | uniq | wc -l\n",
    "\n",
    "211"
   ]
  },
  {
   "cell_type": "markdown",
   "metadata": {},
   "source": [
    "## To Do"
   ]
  },
  {
   "cell_type": "markdown",
   "metadata": {},
   "source": [
    "1) How can we change the sampling frequency of our PyRate run?\n",
    "\n",
    "MCMC iterations is changed for the number after: -n ###\n",
    "\n",
    "sampling frequency is changed for the number after: -s ##\n",
    "\n",
    "(sampling frequency only displays every \"-s ##\" that you request. i.e. you have a 10 million data file but you request for -s 1000, it will only display/output the every 1000th result)"
   ]
  },
  {
   "cell_type": "markdown",
   "metadata": {},
   "source": [
    "2) What does the -n flag achieve?\n",
    "\n",
    "determines the # of MCMC generations (\"how many times should pyrate keep guessing\")"
   ]
  },
  {
   "cell_type": "code",
   "execution_count": null,
   "metadata": {
    "collapsed": true
   },
   "outputs": [],
   "source": []
  }
 ],
 "metadata": {
  "kernelspec": {
   "display_name": "Python 3",
   "language": "python",
   "name": "python3"
  },
  "language_info": {
   "codemirror_mode": {
    "name": "ipython",
    "version": 3
   },
   "file_extension": ".py",
   "mimetype": "text/x-python",
   "name": "python",
   "nbconvert_exporter": "python",
   "pygments_lexer": "ipython3",
   "version": "3.5.2"
  }
 },
 "nbformat": 4,
 "nbformat_minor": 2
}
