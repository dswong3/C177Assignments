{
 "cells": [
  {
   "cell_type": "markdown",
   "metadata": {},
   "source": [
    "## TO DO"
   ]
  },
  {
   "cell_type": "markdown",
   "metadata": {},
   "source": [
    "1) How many fossils are included in the dataset?\n",
    "\n",
    "#cat canid_occ.csv | grep -c occ\n",
    "\n",
    "2947"
   ]
  },
  {
   "cell_type": "markdown",
   "metadata": {},
   "source": [
    "2) How many fossils have been identified to genus-level only? How many to species-level?\n",
    "\n",
    "#cat canid_occ.csv | grep -c genus\n",
    "\n",
    "614\n",
    "\n",
    "#cat canid_occ.csv | grep -c species\n",
    "\n",
    "2107"
   ]
  },
  {
   "cell_type": "markdown",
   "metadata": {},
   "source": [
    "3) How many unique accepted names are part of this dataset?\n",
    "\n",
    "#tail -n +2 canid_occ.csv | cut -d \",\" -f 6 | sort | uniq | wc -l\n",
    "\n",
    "211"
   ]
  },
  {
   "cell_type": "markdown",
   "metadata": {},
   "source": [
    "## To Do"
   ]
  },
  {
   "cell_type": "markdown",
   "metadata": {},
   "source": [
    "1) How can we change the sampling frequency of our PyRate run?\n",
    "\n",
    "MCMC iterations is changed for the number after: -n ###\n",
    "\n",
    "sampling frequency is changed for the number after: -s ##\n",
    "\n",
    "(sampling frequency only displays every \"-s ##\" that you request. i.e. you have a 10 million data file but you request for -s 1000, it will only display/output the every 1000th result)"
   ]
  },
  {
   "cell_type": "markdown",
   "metadata": {},
   "source": [
    "2) What does the -n flag achieve?\n",
    "\n",
    "determines the # of MCMC generations (\"how many times should pyrate keep guessing\")"
   ]
  },
  {
   "cell_type": "markdown",
   "metadata": {
    "collapsed": true
   },
   "source": [
    "canid_occ_1_marginal_rates.log\n",
    "\n",
    "Tab-separated table with the posterior samples of the marginal rates of speciation, extinction, and net diversification, calculated within 1 time unit (typically Myr).\n",
    "\n"
   ]
  },
  {
   "cell_type": "markdown",
   "metadata": {},
   "source": [
    "canid_occ_1_mcmc.log\n",
    "\n",
    "Tab-separated table with the MCMC samples of the posterior, prior, likelihoods of the preservation process and of the birth-death (indicated by PP_lik and BD_lik, respectively), the preservation rate (q_rate), the shape parameter of its gamma-distributed heterogeneity (alpha), the number of sampled rate shifts (k_birth, k_death), the time of origin of the oldest lineage (root_age), the total branch length (tot_length), and the times of speciation and extinction of all taxa in the data set (_TS and _TE, respectively). When using the TPP model of preservation, the preservation rates between shifts are indicated as q_0, q_1, ... q_n (from older to younger).\n"
   ]
  },
  {
   "cell_type": "markdown",
   "metadata": {},
   "source": [
    "canid_occ_1_sum.txt\n",
    "\n",
    "Tab-separated table with the posterior samples of the marginal rates of speciation, extinction, and net diversification, calculated within 1 time unit (typically Myr)."
   ]
  },
  {
   "cell_type": "markdown",
   "metadata": {},
   "source": [
    "## Homework"
   ]
  },
  {
   "cell_type": "markdown",
   "metadata": {},
   "source": [
    "\n",
    "a. Changes in speciation rates\n",
    "\n",
    "The speciation rate was decreasing until about 7 Ma, then spiked up, and began to level off until today's time.\n"
   ]
  },
  {
   "cell_type": "markdown",
   "metadata": {},
   "source": [
    "b. Changes in extinction rates\n",
    "\n",
    "Throughout, the extinction rate remained the same for the most part until 1-2 Ma then spiked very high and is currently at that level.\n"
   ]
  },
  {
   "cell_type": "markdown",
   "metadata": {},
   "source": [
    "c. Changes in Diversification rates\n",
    "\n",
    "The diversification began positive then slightly decreased to a negative value and back up to the positive value hovering around .2 to -0.1. However, more recently, there has been a decrease in diversity showing a reduction in diversity."
   ]
  },
  {
   "cell_type": "markdown",
   "metadata": {},
   "source": [
    "Comparisons: \n",
    "\n",
    "The speciation rate had similar trends but the lines were more smoothed out. The extinction rate looked identical. The net diversification has a difference in more pronounced spike around 35 Ma. For longevity, there is a change with a much larger decrease around 3 Ma. "
   ]
  },
  {
   "cell_type": "code",
   "execution_count": null,
   "metadata": {
    "collapsed": true
   },
   "outputs": [],
   "source": []
  }
 ],
 "metadata": {
  "kernelspec": {
   "display_name": "Python 3",
   "language": "python",
   "name": "python3"
  },
  "language_info": {
   "codemirror_mode": {
    "name": "ipython",
    "version": 3
   },
   "file_extension": ".py",
   "mimetype": "text/x-python",
   "name": "python",
   "nbconvert_exporter": "python",
   "pygments_lexer": "ipython3",
   "version": "3.5.2"
  }
 },
 "nbformat": 4,
 "nbformat_minor": 2
}
